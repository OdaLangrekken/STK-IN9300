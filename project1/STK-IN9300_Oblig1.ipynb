{
 "cells": [
  {
   "cell_type": "markdown",
   "id": "c777b098",
   "metadata": {},
   "source": [
    "## STK-IN9300 - Assignment 1\n",
    "### By: Oda Langrekken\n",
    "\n"
   ]
  },
  {
   "cell_type": "markdown",
   "id": "54532ec0",
   "metadata": {},
   "source": [
    "### Dataset\n",
    "\n",
    "For this assignment I chose the Titanic Dataset, which can be downloaded from [Kaggle](https://www.kaggle.com/competitions/titanic/data?select=train.csv). The dataset contains data about 891 of the passengers on the Titanic. Each row of the dataset corresponds to one passenger, and carries information about this passenger such as the passengers's gender, age and whether the passenger survived the Sinking of the Titanic or not. As certain passengers were more likely to survive than others, this dataset can be used for classification tasks.  \n",
    "\n",
    "In this project the data is analyzed using python and pandas dataframes.\n",
    "\n",
    "Let's have a closer look at the data. "
   ]
  },
  {
   "cell_type": "code",
   "execution_count": 1,
   "id": "639388de",
   "metadata": {},
   "outputs": [],
   "source": [
    "# Importing the necessary libraries\n",
    "import pandas as pd\n",
    "import matplotlib.pyplot as plt\n",
    "import seaborn as sns\n",
    "import numpy as np\n",
    "\n",
    "pd.set_option(\"display.precision\", 2)"
   ]
  },
  {
   "cell_type": "code",
   "execution_count": 2,
   "id": "7be5e6a9",
   "metadata": {
    "scrolled": true
   },
   "outputs": [
    {
     "data": {
      "text/html": [
       "<div>\n",
       "<style scoped>\n",
       "    .dataframe tbody tr th:only-of-type {\n",
       "        vertical-align: middle;\n",
       "    }\n",
       "\n",
       "    .dataframe tbody tr th {\n",
       "        vertical-align: top;\n",
       "    }\n",
       "\n",
       "    .dataframe thead th {\n",
       "        text-align: right;\n",
       "    }\n",
       "</style>\n",
       "<table border=\"1\" class=\"dataframe\">\n",
       "  <thead>\n",
       "    <tr style=\"text-align: right;\">\n",
       "      <th></th>\n",
       "      <th>PassengerId</th>\n",
       "      <th>Survived</th>\n",
       "      <th>Pclass</th>\n",
       "      <th>Name</th>\n",
       "      <th>Sex</th>\n",
       "      <th>Age</th>\n",
       "      <th>SibSp</th>\n",
       "      <th>Parch</th>\n",
       "      <th>Ticket</th>\n",
       "      <th>Fare</th>\n",
       "      <th>Cabin</th>\n",
       "      <th>Embarked</th>\n",
       "    </tr>\n",
       "  </thead>\n",
       "  <tbody>\n",
       "    <tr>\n",
       "      <th>0</th>\n",
       "      <td>1</td>\n",
       "      <td>0</td>\n",
       "      <td>3</td>\n",
       "      <td>Braund, Mr. Owen Harris</td>\n",
       "      <td>male</td>\n",
       "      <td>22.0</td>\n",
       "      <td>1</td>\n",
       "      <td>0</td>\n",
       "      <td>A/5 21171</td>\n",
       "      <td>7.25</td>\n",
       "      <td>NaN</td>\n",
       "      <td>S</td>\n",
       "    </tr>\n",
       "    <tr>\n",
       "      <th>1</th>\n",
       "      <td>2</td>\n",
       "      <td>1</td>\n",
       "      <td>1</td>\n",
       "      <td>Cumings, Mrs. John Bradley (Florence Briggs Th...</td>\n",
       "      <td>female</td>\n",
       "      <td>38.0</td>\n",
       "      <td>1</td>\n",
       "      <td>0</td>\n",
       "      <td>PC 17599</td>\n",
       "      <td>71.28</td>\n",
       "      <td>C85</td>\n",
       "      <td>C</td>\n",
       "    </tr>\n",
       "    <tr>\n",
       "      <th>2</th>\n",
       "      <td>3</td>\n",
       "      <td>1</td>\n",
       "      <td>3</td>\n",
       "      <td>Heikkinen, Miss. Laina</td>\n",
       "      <td>female</td>\n",
       "      <td>26.0</td>\n",
       "      <td>0</td>\n",
       "      <td>0</td>\n",
       "      <td>STON/O2. 3101282</td>\n",
       "      <td>7.92</td>\n",
       "      <td>NaN</td>\n",
       "      <td>S</td>\n",
       "    </tr>\n",
       "    <tr>\n",
       "      <th>3</th>\n",
       "      <td>4</td>\n",
       "      <td>1</td>\n",
       "      <td>1</td>\n",
       "      <td>Futrelle, Mrs. Jacques Heath (Lily May Peel)</td>\n",
       "      <td>female</td>\n",
       "      <td>35.0</td>\n",
       "      <td>1</td>\n",
       "      <td>0</td>\n",
       "      <td>113803</td>\n",
       "      <td>53.10</td>\n",
       "      <td>C123</td>\n",
       "      <td>S</td>\n",
       "    </tr>\n",
       "    <tr>\n",
       "      <th>4</th>\n",
       "      <td>5</td>\n",
       "      <td>0</td>\n",
       "      <td>3</td>\n",
       "      <td>Allen, Mr. William Henry</td>\n",
       "      <td>male</td>\n",
       "      <td>35.0</td>\n",
       "      <td>0</td>\n",
       "      <td>0</td>\n",
       "      <td>373450</td>\n",
       "      <td>8.05</td>\n",
       "      <td>NaN</td>\n",
       "      <td>S</td>\n",
       "    </tr>\n",
       "  </tbody>\n",
       "</table>\n",
       "</div>"
      ],
      "text/plain": [
       "   PassengerId  Survived  Pclass  \\\n",
       "0            1         0       3   \n",
       "1            2         1       1   \n",
       "2            3         1       3   \n",
       "3            4         1       1   \n",
       "4            5         0       3   \n",
       "\n",
       "                                                Name     Sex   Age  SibSp  \\\n",
       "0                            Braund, Mr. Owen Harris    male  22.0      1   \n",
       "1  Cumings, Mrs. John Bradley (Florence Briggs Th...  female  38.0      1   \n",
       "2                             Heikkinen, Miss. Laina  female  26.0      0   \n",
       "3       Futrelle, Mrs. Jacques Heath (Lily May Peel)  female  35.0      1   \n",
       "4                           Allen, Mr. William Henry    male  35.0      0   \n",
       "\n",
       "   Parch            Ticket   Fare Cabin Embarked  \n",
       "0      0         A/5 21171   7.25   NaN        S  \n",
       "1      0          PC 17599  71.28   C85        C  \n",
       "2      0  STON/O2. 3101282   7.92   NaN        S  \n",
       "3      0            113803  53.10  C123        S  \n",
       "4      0            373450   8.05   NaN        S  "
      ]
     },
     "execution_count": 2,
     "metadata": {},
     "output_type": "execute_result"
    }
   ],
   "source": [
    "# Read in data\n",
    "data = pd.read_csv('titanic/train.csv')\n",
    "# Print first five rows\n",
    "data.head()"
   ]
  },
  {
   "cell_type": "markdown",
   "id": "a432f8a2",
   "metadata": {},
   "source": [
    "The table above displays the first five rows of the dataset. There are 12 columns.\n",
    "\n",
    "##### Categorical:\n",
    "\n",
    "\n",
    "**Survived** - 1 if the passenger survived and 0 otherwise.    \n",
    "**Pclass** - the class the passenger travelled on, 1=1st class (most expensive), 2=2nd class and 3=3rd class (least expensive).  \n",
    "**Embarked** - port of embarkation, C = Cherbourg; Q = Queenstown; S = Southampton.    \n",
    "**Sex** - the passenger's sex.  \n",
    "\n",
    "**PassengerId** - a unique Id for each passenger.    \n",
    "**Name** - the name of the passenger.    \n",
    "**Ticket** - the passenger's ticket number.    \n",
    "**Cabin** - the passenger's cabin.    \n",
    "\n",
    "\n",
    "##### Numerical discrete:\n",
    "\n",
    "**SibSp** - number of siblings or spouses of the passenger that are also on board.  \n",
    "**Parch** - number of parents or children of the passengert that are also on board.  \n",
    "\n",
    "##### Numerical continuous:\n",
    "\n",
    "**Age** - age of the passenger in years  \n",
    "**Fare** - fare paid by the passenger in dollars  "
   ]
  },
  {
   "cell_type": "markdown",
   "id": "f5aede5b",
   "metadata": {},
   "source": [
    "### Problem 1 - Summarizing data in a table\n",
    "\n",
    "To summarize the quantitative data we can use the `describe`-method of the pandas dataframe."
   ]
  },
  {
   "cell_type": "code",
   "execution_count": 3,
   "id": "b343cd7a",
   "metadata": {},
   "outputs": [
    {
     "data": {
      "text/html": [
       "<div>\n",
       "<style scoped>\n",
       "    .dataframe tbody tr th:only-of-type {\n",
       "        vertical-align: middle;\n",
       "    }\n",
       "\n",
       "    .dataframe tbody tr th {\n",
       "        vertical-align: top;\n",
       "    }\n",
       "\n",
       "    .dataframe thead th {\n",
       "        text-align: right;\n",
       "    }\n",
       "</style>\n",
       "<table border=\"1\" class=\"dataframe\">\n",
       "  <thead>\n",
       "    <tr style=\"text-align: right;\">\n",
       "      <th></th>\n",
       "      <th>count</th>\n",
       "      <th>mean</th>\n",
       "      <th>std</th>\n",
       "      <th>min</th>\n",
       "      <th>25%</th>\n",
       "      <th>50%</th>\n",
       "      <th>75%</th>\n",
       "      <th>max</th>\n",
       "    </tr>\n",
       "  </thead>\n",
       "  <tbody>\n",
       "    <tr>\n",
       "      <th>Age</th>\n",
       "      <td>714.0</td>\n",
       "      <td>29.70</td>\n",
       "      <td>14.53</td>\n",
       "      <td>0.42</td>\n",
       "      <td>20.12</td>\n",
       "      <td>28.00</td>\n",
       "      <td>38.0</td>\n",
       "      <td>80.00</td>\n",
       "    </tr>\n",
       "    <tr>\n",
       "      <th>SibSp</th>\n",
       "      <td>891.0</td>\n",
       "      <td>0.52</td>\n",
       "      <td>1.10</td>\n",
       "      <td>0.00</td>\n",
       "      <td>0.00</td>\n",
       "      <td>0.00</td>\n",
       "      <td>1.0</td>\n",
       "      <td>8.00</td>\n",
       "    </tr>\n",
       "    <tr>\n",
       "      <th>Parch</th>\n",
       "      <td>891.0</td>\n",
       "      <td>0.38</td>\n",
       "      <td>0.81</td>\n",
       "      <td>0.00</td>\n",
       "      <td>0.00</td>\n",
       "      <td>0.00</td>\n",
       "      <td>0.0</td>\n",
       "      <td>6.00</td>\n",
       "    </tr>\n",
       "    <tr>\n",
       "      <th>Fare</th>\n",
       "      <td>891.0</td>\n",
       "      <td>32.20</td>\n",
       "      <td>49.69</td>\n",
       "      <td>0.00</td>\n",
       "      <td>7.91</td>\n",
       "      <td>14.45</td>\n",
       "      <td>31.0</td>\n",
       "      <td>512.33</td>\n",
       "    </tr>\n",
       "  </tbody>\n",
       "</table>\n",
       "</div>"
      ],
      "text/plain": [
       "       count   mean    std   min    25%    50%   75%     max\n",
       "Age    714.0  29.70  14.53  0.42  20.12  28.00  38.0   80.00\n",
       "SibSp  891.0   0.52   1.10  0.00   0.00   0.00   1.0    8.00\n",
       "Parch  891.0   0.38   0.81  0.00   0.00   0.00   0.0    6.00\n",
       "Fare   891.0  32.20  49.69  0.00   7.91  14.45  31.0  512.33"
      ]
     },
     "execution_count": 3,
     "metadata": {},
     "output_type": "execute_result"
    }
   ],
   "source": [
    "data[['Age', 'SibSp', 'Parch', 'Fare']].describe().transpose()"
   ]
  },
  {
   "cell_type": "markdown",
   "id": "2323788c",
   "metadata": {},
   "source": [
    "The categorical data is slightly more difficult to summarize using the pandas library.   \n",
    "\n",
    "For readability the categorical data is summarized in the markdown table below. The code used to find the different values is at the end of the project."
   ]
  },
  {
   "cell_type": "markdown",
   "id": "b1332da1",
   "metadata": {},
   "source": [
    "| Categorical  \t| N/891 (%) \t|\n",
    "|:-------------\t|-----------\t|\n",
    "| **Sex**      \t|\t            |\n",
    "| Female       \t| 314 (35)      |\n",
    "| **Pclass**   \t|           \t|\n",
    "| 1            \t|216 (24)\n",
    "| 2            \t|184 (21)   \t|\n",
    "| 3            \t|491 (55)|\n",
    "| **Embarked**  |               |\n",
    "| Cherbourg (C) |168 (19)               |\n",
    "| Queenstown (Q) |77 (9)              |\n",
    "| Southampton (S)| 644 (72)             |\n",
    "| **Survived** \t|           \t|\n",
    "| 1            \t|342 (38)  \t|"
   ]
  },
  {
   "cell_type": "markdown",
   "id": "8f8bf4f8",
   "metadata": {},
   "source": [
    "### Problem 2 and 3 - Visualizing data"
   ]
  },
  {
   "cell_type": "markdown",
   "id": "7aa2e0c4",
   "metadata": {},
   "source": [
    "### How does passenger class affect survival?\n",
    "Anyone who has seen the Titanic movie knows that first class passenger were more likely to survive than third class passengers. Does the data confirm this?\n",
    "\n",
    "#### Bad plot\n",
    "To answer our question we make a pie chart to visualize the number of survived passengers per class.\n",
    "\n"
   ]
  },
  {
   "cell_type": "code",
   "execution_count": 4,
   "id": "c5940895",
   "metadata": {},
   "outputs": [
    {
     "data": {
      "image/png": "[encoded data removed]",
      "text/plain": [
       "<Figure size 432x288 with 1 Axes>"
      ]
     },
     "metadata": {},
     "output_type": "display_data"
    }
   ],
   "source": [
    "survival_per_class = data.groupby('Pclass')['Survived'].sum()\n",
    "\n",
    "plt.pie(x=survival_per_class.values, labels=['1st', '2nd', '3rd']);\n",
    "plt.title('Number of survived passengers per class');"
   ]
  },
  {
   "cell_type": "markdown",
   "id": "f81a57f2",
   "metadata": {},
   "source": [
    "#### Why is this plot bad?\n",
    "\n",
    "Pie charts are generally not the best plot type to use when visualizing data. It is hard to tell the difference in size between the different parts of the circle. In this plot it is clear that the 2nd class was the class where the fewest passengers survived. But which is bigger of the 1st class and the 3rd class? By eye it is difficult to compare the sizes.     \n",
    "\n",
    "More importantly: this plot does not answer our question. We wanted to know if passengers of certain classes were more likely to survive than others. Here the plot shows the total number of survived passengers per class. As the passengers are not evenly distributed on the three classes, this plot does not tell us anything about probability for survival. Looking at this plot you might conclude that class did not affect the passenger's survival chance. The next plot will show us that this conclusion is wrong. The pie chart does not reflect the difference in survival rate between the three classes, but rather that there were more passengers travelling by 3rd class than 1st class. "
   ]
  },
  {
   "cell_type": "markdown",
   "id": "400d9178",
   "metadata": {},
   "source": [
    "#### Better plot\n",
    "The pie chart did not answer our question. We know plot the ratio of passengers that survived per class in a bar plot."
   ]
  },
  {
   "cell_type": "code",
   "execution_count": 5,
   "id": "15c0e302",
   "metadata": {},
   "outputs": [
    {
     "data": {
      "image/png": "[encoded data removed]",
      "text/plain": [
       "<Figure size 432x288 with 1 Axes>"
      ]
     },
     "metadata": {
      "needs_background": "light"
     },
     "output_type": "display_data"
    }
   ],
   "source": [
    "ax = sns.barplot(data=data, x='Pclass', y='Survived', ci=None);\n",
    "plt.ylabel('Percentage survived');\n",
    "plt.title('Percentage of passengers that survived per class');"
   ]
  },
  {
   "cell_type": "markdown",
   "id": "36916577",
   "metadata": {},
   "source": [
    "##### Why is this plot better?\n",
    "Our plot shows the ratio of passengers that survived per class. Because we calculate the ratio the difference in the number of passengers per class no longer affects our plot. We can now clearly see that 1st class passengers were most likely to survive, and that 3rd class passengers were the least likely to survive.  \n",
    "\n",
    "Additionally it is easier to compare the heights of the bars than it is to compare the size of pie parts. The numbers on the y-axis make it possible to read the actual survival probability of each class. Just by looking at this plot we can tell that the survival probability was about 47% for passengers travelling on 2nd class, and that a passenger on 1st class was more than twice as likely to survive as a passenger on the 3rd class."
   ]
  },
  {
   "cell_type": "markdown",
   "id": "8986d98f",
   "metadata": {},
   "source": [
    "### How does the fare affect survival rate?\n",
    "From the previous plot we know that people in 1st class were more likely to survive than the people in 3rd class. People in 1st class also paid a higher fare than the people in 2nd and 3rd class. So what is the relationship between fare and probability for survival?\n",
    "\n",
    "#### Removal of outlier\n",
    "There is a passenger who paid $512 in fare. This is an extreme outlier.\\\n",
    "As this outlier stretches the scale of the plots and makes it harder to see the distribution of the rest of the data, I have removed this outlier when creating the following plots.\n",
    "\n"
   ]
  },
  {
   "cell_type": "markdown",
   "id": "40f12075",
   "metadata": {},
   "source": [
    "#### Bad Plot - scatter plot"
   ]
  },
  {
   "cell_type": "code",
   "execution_count": 6,
   "id": "c749d2f2",
   "metadata": {},
   "outputs": [
    {
     "data": {
      "image/png": "[encoded data removed]",
      "text/plain": [
       "<Figure size 432x288 with 1 Axes>"
      ]
     },
     "metadata": {
      "needs_background": "light"
     },
     "output_type": "display_data"
    }
   ],
   "source": [
    "#Remove outlier\n",
    "data_new = data[data.Fare < 500]\n",
    "plt.scatter(data_new['Fare'], data_new['Survived']);\n",
    "plt.xlabel('Fare');\n",
    "plt.ylabel('Survived');\n",
    "plt.title('Scatter plot of survival per paid fare');"
   ]
  },
  {
   "cell_type": "markdown",
   "id": "b0669ffa",
   "metadata": {},
   "source": [
    "##### Why is the scatter plot bad? \n",
    "It is hard to see pattern in this plot. We expect passengers who paid a high fare to be more likely to survive, but there are also low-fare passengers who survive. The scatter plot displays a dot for each distinct observation in the dataset, but it does not tell us anything about how many observations each dot represents. So as there are many data point in the data set and there are low-fare passengers who survived and high-fare passengers who did not survive, the scatter plot does not exhibit any relationship between paid fare and probability of survival.  "
   ]
  },
  {
   "cell_type": "markdown",
   "id": "5db3acf8",
   "metadata": {},
   "source": [
    "#### Better plot - a box plot\n",
    "\n"
   ]
  },
  {
   "cell_type": "code",
   "execution_count": 7,
   "id": "77b88c86",
   "metadata": {},
   "outputs": [
    {
     "data": {
      "image/png": "[encoded data removed]",
      "text/plain": [
       "<Figure size 432x288 with 1 Axes>"
      ]
     },
     "metadata": {
      "needs_background": "light"
     },
     "output_type": "display_data"
    }
   ],
   "source": [
    "sns.boxplot(data=data_new, x='Survived', y='Fare');\n",
    "plt.title('Fare paid by passengers per class');"
   ]
  },
  {
   "cell_type": "markdown",
   "id": "1c4e23e4",
   "metadata": {},
   "source": [
    "##### Why is this plot better?\n",
    "The scatter plot showed us that there are both low-fare and high-fare passengers who survived, and both low-fare and high-fare passengers who did not survive. We can easily make the same conclusion by looking at this plot as the minimum fare amount is about the same for survivors and non-survivors and there are outliers from passengers that paid a very high fare in both groups.  \n",
    "Because this plot contains information about how the data is spread out, we can learn a lot more from the box plot that we could learn from the scatter plot. The line in the center of the box shows the median. The median is higher for the survivors than for the non-survivors, which supports our previous conclusion that 3rd class passengers were the least likely to survive. We can also see that the third quartile and the maximum value (outliers excluded) are a lot higher for the survivors.  \n",
    "\n",
    "The scatter plot showed us that paying a high fare doesn't garantuee survival, but the box plot shows us that it increases the odds."
   ]
  },
  {
   "cell_type": "markdown",
   "id": "94454bd7",
   "metadata": {},
   "source": [
    "### Extra material - code to find statistics for categorical variables"
   ]
  },
  {
   "cell_type": "code",
   "execution_count": 8,
   "id": "15837ad0",
   "metadata": {},
   "outputs": [
    {
     "data": {
      "text/plain": [
       "male      577\n",
       "female    314\n",
       "Name: Sex, dtype: int64"
      ]
     },
     "execution_count": 8,
     "metadata": {},
     "output_type": "execute_result"
    }
   ],
   "source": [
    "## Find how many women are on ship\n",
    "data['Sex'].value_counts()"
   ]
  },
  {
   "cell_type": "code",
   "execution_count": 9,
   "id": "ee45a15a",
   "metadata": {},
   "outputs": [
    {
     "data": {
      "text/plain": [
       "male      0.65\n",
       "female    0.35\n",
       "Name: Sex, dtype: float64"
      ]
     },
     "execution_count": 9,
     "metadata": {},
     "output_type": "execute_result"
    }
   ],
   "source": [
    "## Find percentage of women on ship\n",
    "data['Sex'].value_counts(normalize = True)"
   ]
  },
  {
   "cell_type": "code",
   "execution_count": 10,
   "id": "b44f3268",
   "metadata": {},
   "outputs": [
    {
     "data": {
      "text/plain": [
       "3    491\n",
       "1    216\n",
       "2    184\n",
       "Name: Pclass, dtype: int64"
      ]
     },
     "execution_count": 10,
     "metadata": {},
     "output_type": "execute_result"
    }
   ],
   "source": [
    "## Find how passengers are distributed on different classes\n",
    "data['Pclass'].value_counts()"
   ]
  },
  {
   "cell_type": "code",
   "execution_count": 11,
   "id": "20312d24",
   "metadata": {},
   "outputs": [
    {
     "data": {
      "text/plain": [
       "3    0.55\n",
       "1    0.24\n",
       "2    0.21\n",
       "Name: Pclass, dtype: float64"
      ]
     },
     "execution_count": 11,
     "metadata": {},
     "output_type": "execute_result"
    }
   ],
   "source": [
    "## Find how passengers are distributed on different classes, percentage\n",
    "data['Pclass'].value_counts(normalize=True)"
   ]
  },
  {
   "cell_type": "code",
   "execution_count": 12,
   "id": "0c4ad182",
   "metadata": {},
   "outputs": [
    {
     "data": {
      "text/plain": [
       "S    644\n",
       "C    168\n",
       "Q     77\n",
       "Name: Embarked, dtype: int64"
      ]
     },
     "execution_count": 12,
     "metadata": {},
     "output_type": "execute_result"
    }
   ],
   "source": [
    "## Find out where passengers embarked\n",
    "data['Embarked'].value_counts()"
   ]
  },
  {
   "cell_type": "code",
   "execution_count": 13,
   "id": "2087fa02",
   "metadata": {},
   "outputs": [
    {
     "data": {
      "text/plain": [
       "S    0.72\n",
       "C    0.19\n",
       "Q    0.09\n",
       "Name: Embarked, dtype: float64"
      ]
     },
     "execution_count": 13,
     "metadata": {},
     "output_type": "execute_result"
    }
   ],
   "source": [
    "## Find out where passengers embarked, percentage\n",
    "data['Embarked'].value_counts(normalize=True)"
   ]
  },
  {
   "cell_type": "code",
   "execution_count": 14,
   "id": "bf3fdbc9",
   "metadata": {},
   "outputs": [
    {
     "data": {
      "text/plain": [
       "0    549\n",
       "1    342\n",
       "Name: Survived, dtype: int64"
      ]
     },
     "execution_count": 14,
     "metadata": {},
     "output_type": "execute_result"
    }
   ],
   "source": [
    "## Find how many passengers survived\n",
    "data['Survived'].value_counts()"
   ]
  },
  {
   "cell_type": "code",
   "execution_count": 15,
   "id": "0252d531",
   "metadata": {},
   "outputs": [
    {
     "data": {
      "text/plain": [
       "0    0.62\n",
       "1    0.38\n",
       "Name: Survived, dtype: float64"
      ]
     },
     "execution_count": 15,
     "metadata": {},
     "output_type": "execute_result"
    }
   ],
   "source": [
    "## Find how many passengers survived, percentage\n",
    "data['Survived'].value_counts(normalize=True)"
   ]
  }
 ],
 "metadata": {
  "kernelspec": {
   "display_name": "Python 3",
   "language": "python",
   "name": "python3"
  },
  "language_info": {
   "codemirror_mode": {
    "name": "ipython",
    "version": 3
   },
   "file_extension": ".py",
   "mimetype": "text/x-python",
   "name": "python",
   "nbconvert_exporter": "python",
   "pygments_lexer": "ipython3",
   "version": "3.8.8"
  }
 },
 "nbformat": 4,
 "nbformat_minor": 5
}
